{
  "cells": [
    {
      "cell_type": "markdown",
      "metadata": {
        "id": "view-in-github",
        "colab_type": "text"
      },
      "source": [
        "<a href=\"https://colab.research.google.com/github/slazur83/Exploratory_Data_Analysis/blob/main/Weight_history.ipynb\" target=\"_parent\"><img src=\"https://colab.research.google.com/assets/colab-badge.svg\" alt=\"Open In Colab\"/></a>"
      ]
    },
    {
      "cell_type": "code",
      "execution_count": null,
      "metadata": {
        "id": "m3ZZtkYyf8kb"
      },
      "outputs": [],
      "source": [
        "import pandas as pd\n",
        "import glob\n",
        "import os\n",
        "import json\n",
        "import numpy as np\n",
        "import plotly.graph_objects as go\n",
        "from datetime import datetime\n",
        "from google.colab import userdata\n",
        "from google.colab import files"
      ]
    },
    {
      "cell_type": "code",
      "execution_count": null,
      "metadata": {
        "id": "DhYwCaajgI9d"
      },
      "outputs": [],
      "source": [
        "config_file_path = \"/content/drive/MyDrive/Colab Notebooks/config.json\"\n",
        "\n",
        "with open(config_file_path, 'r') as config_file:\n",
        "    config = json.load(config_file)\n",
        "\n",
        "google_sheets_moja_waga = config['google_sheets_moja_waga']\n",
        "document_key = google_sheets_moja_waga.split('/')[-2]"
      ]
    },
    {
      "cell_type": "markdown",
      "metadata": {
        "id": "UiLbVUQrhsvt"
      },
      "source": [
        "## Google Sheets"
      ]
    },
    {
      "cell_type": "code",
      "execution_count": null,
      "metadata": {
        "id": "n83W_Twug5fv"
      },
      "outputs": [],
      "source": [
        "# data from 2020\n",
        "google_sheets_moja_waga_2020 = f'https://docs.google.com/spreadsheets/d/{document_key}/export?format=csv&gid=0'\n",
        "df1 = pd.read_csv(google_sheets_moja_waga_2020, header=1)"
      ]
    },
    {
      "cell_type": "code",
      "execution_count": null,
      "metadata": {
        "id": "GsQUHDG7g4pY"
      },
      "outputs": [],
      "source": [
        "# data from 2017\n",
        "google_sheets_moja_waga_2017 = f'https://docs.google.com/spreadsheets/d/{document_key}/export?format=csv&gid=2116961746'\n",
        "df2 = pd.read_csv(google_sheets_moja_waga_2017, header=1)\n",
        "df2['data'] = pd.to_datetime(df2['data'], format='%m/%d/%Y').dt.strftime('%Y-%m-%d')\n",
        "df2['waga [kg]'] = df2['waga [kg]'].str.replace(' kg', '')"
      ]
    },
    {
      "cell_type": "code",
      "execution_count": null,
      "metadata": {
        "id": "c9k5jfkygzSM"
      },
      "outputs": [],
      "source": [
        "# data from 2016\n",
        "google_sheets_moja_waga_2016 = f'https://docs.google.com/spreadsheets/d/{document_key}/export?format=csv&gid=552331991'\n",
        "df3 = pd.read_csv(google_sheets_moja_waga_2016, header=1)\n",
        "df3['data'] = pd.to_datetime(df3['data'], format='%m/%d/%Y').dt.strftime('%Y-%m-%d')\n",
        "df3['waga [kg]'] = df3['waga [kg]'].str.replace(' kg', '').str.strip()"
      ]
    },
    {
      "cell_type": "code",
      "execution_count": null,
      "metadata": {
        "id": "GcZL7VJCjdJK"
      },
      "outputs": [],
      "source": [
        "# data from 2011\n",
        "google_sheets_moja_waga_2011 = f'https://docs.google.com/spreadsheets/d/{document_key}/export?format=csv&gid=472239933'\n",
        "df4 = pd.read_csv(google_sheets_moja_waga_2011, header=1)\n",
        "df4['data'] = pd.to_datetime(df4['data'], format='%d-%m-%Y').dt.strftime('%Y-%m-%d')"
      ]
    },
    {
      "cell_type": "code",
      "execution_count": null,
      "metadata": {
        "id": "YvUWG-hGmJcZ"
      },
      "outputs": [],
      "source": [
        "# data from 2010\n",
        "google_sheets_moja_waga_2010 = f'https://docs.google.com/spreadsheets/d/{document_key}/export?format=csv&gid=880491358'\n",
        "df5 = pd.read_csv(google_sheets_moja_waga_2010, header=1)\n",
        "df5['data'] = pd.to_datetime(df5['data'], format='%d-%m-%Y').dt.strftime('%Y-%m-%d')"
      ]
    },
    {
      "cell_type": "code",
      "execution_count": null,
      "metadata": {
        "id": "yk5L83YhmnUC"
      },
      "outputs": [],
      "source": [
        "# data from 2009\n",
        "google_sheets_moja_waga_2009 = f'https://docs.google.com/spreadsheets/d/{document_key}/export?format=csv&gid=2058414398'\n",
        "df6 = pd.read_csv(google_sheets_moja_waga_2009, header=1)\n",
        "df6['data'] = pd.to_datetime(df6['data'], format='%d-%m-%Y').dt.strftime('%Y-%m-%d')"
      ]
    },
    {
      "cell_type": "code",
      "source": [
        "# data from 2014\n",
        "google_sheets_moja_waga_2014 = f'https://docs.google.com/spreadsheets/d/{document_key}/export?format=csv&gid=445610479'\n",
        "df7 = pd.read_csv(google_sheets_moja_waga_2014, header=1)\n",
        "df7['data'] = pd.to_datetime(df7['data'], format='%d-%m-%Y').dt.strftime('%Y-%m-%d')"
      ],
      "metadata": {
        "id": "0cSWhEPNQxcc"
      },
      "execution_count": null,
      "outputs": []
    },
    {
      "cell_type": "code",
      "source": [
        "# data from 2013\n",
        "google_sheets_moja_waga_2013 = f'https://docs.google.com/spreadsheets/d/{document_key}/export?format=csv&gid=829182274'\n",
        "df8 = pd.read_csv(google_sheets_moja_waga_2013, header=1)\n",
        "df8['data'] = pd.to_datetime(df8['data'], format='%d-%m-%Y').dt.strftime('%Y-%m-%d')"
      ],
      "metadata": {
        "id": "bbGnlN5yk_vu"
      },
      "execution_count": null,
      "outputs": []
    },
    {
      "cell_type": "code",
      "source": [
        "# data from 2012\n",
        "google_sheets_moja_waga_2012 = f'https://docs.google.com/spreadsheets/d/{document_key}/export?format=csv&gid=1000106346'\n",
        "df9 = pd.read_csv(google_sheets_moja_waga_2012, header=1)\n",
        "df9['data'] = pd.to_datetime(df9['data'], format='%d-%m-%Y').dt.strftime('%Y-%m-%d')"
      ],
      "metadata": {
        "id": "FgGBkya-lECR"
      },
      "execution_count": null,
      "outputs": []
    },
    {
      "cell_type": "code",
      "execution_count": null,
      "metadata": {
        "id": "FdIuC80lg-Fd"
      },
      "outputs": [],
      "source": [
        "df = pd.concat([df1, df2, df3, df4, df5, df6, df7, df8, df9], ignore_index=True)"
      ]
    },
    {
      "cell_type": "code",
      "execution_count": null,
      "metadata": {
        "id": "o9I6Tkd4g-3_"
      },
      "outputs": [],
      "source": [
        "df = df.iloc[1:, 1:]\n",
        "df = df.rename(columns=dict(zip(df.columns, ['Date', 'Time', 'Weight'])))\n",
        "df.replace('-', np.nan, inplace=True)"
      ]
    },
    {
      "cell_type": "code",
      "execution_count": null,
      "metadata": {
        "id": "NoevK8j6qyJy"
      },
      "outputs": [],
      "source": [
        "df['Weight'] = df['Weight'].str.replace(',', '.').astype(float)"
      ]
    },
    {
      "cell_type": "code",
      "execution_count": null,
      "metadata": {
        "id": "ezDTaoj-hD1T"
      },
      "outputs": [],
      "source": [
        "df = df.dropna(how='all')\n",
        "duplicated_rows = df.duplicated(keep=False)\n",
        "\n",
        "if duplicated_rows.sum() > 0:\n",
        "    print(f\"Found {duplicated_rows.sum()} duplicated rows.\")\n",
        "    duplicated_sorted = df[duplicated_rows].sort_values(by='Date')\n",
        "    df = df.drop_duplicates()\n",
        "    print(f\"Removed duplicates.\")"
      ]
    },
    {
      "cell_type": "code",
      "execution_count": null,
      "metadata": {
        "id": "OL8AdVPnhe8H"
      },
      "outputs": [],
      "source": [
        "df_google_sheets = df.sort_values(by='Date')"
      ]
    },
    {
      "cell_type": "code",
      "execution_count": null,
      "metadata": {
        "id": "Du1dLyGGhiVI"
      },
      "outputs": [],
      "source": [
        "print(f'Number of entries: {len(df_google_sheets)}')\n",
        "print(f'Date of first entry: {df_google_sheets[\"Date\"].iloc[0]}')\n",
        "print(f'Date of last entry: {df_google_sheets[\"Date\"].iloc[-1]}')"
      ]
    },
    {
      "cell_type": "markdown",
      "metadata": {
        "id": "8YVVArHmhzCn"
      },
      "source": [
        "## Garmin Connect"
      ]
    },
    {
      "cell_type": "code",
      "execution_count": null,
      "metadata": {
        "id": "7c1aGh6Hhypn"
      },
      "outputs": [],
      "source": [
        "garmin_connect_masa_ciala = config['garmin_connect_masa_ciala']\n",
        "file_paths = glob.glob(garmin_connect_masa_ciala)\n",
        "\n",
        "dfs = []\n",
        "for path in file_paths:\n",
        "    df = pd.read_csv(path)\n",
        "    dfs.append(df)\n",
        "\n",
        "df = pd.concat(dfs, ignore_index=True)\n",
        "df = df.iloc[:, :2]"
      ]
    },
    {
      "cell_type": "code",
      "execution_count": null,
      "metadata": {
        "id": "EYeB5gS3h8D0"
      },
      "outputs": [],
      "source": [
        "data_values = df.values.tolist()\n",
        "merged_data = [data_values[i] + data_values[i+1] for i in range(0, len(data_values)-1)]\n",
        "df = pd.DataFrame(merged_data, columns=list(df.columns)*2)\n",
        "\n",
        "index = df.columns.tolist().index('Czas', 1)\n",
        "df.columns.values[index] = 'Czas2'\n",
        "df = df[~df['Czas'].str.contains(':')]\n",
        "\n",
        "df = df.iloc[:, [0, 2, 3]]"
      ]
    },
    {
      "cell_type": "code",
      "execution_count": null,
      "metadata": {
        "id": "BmBMu2Dmh-7j"
      },
      "outputs": [],
      "source": [
        "def replace_month(date_str):\n",
        "    months_pl_to_en = {\n",
        "        'Sty': 'Jan', 'Lut': 'Feb', 'Mar': 'Mar', 'Kwi': 'Apr',\n",
        "        'Maj': 'May', 'Cze': 'Jun', 'Lip': 'Jul', 'Sie': 'Aug',\n",
        "        'Wrz': 'Sep', 'Paź': 'Oct', 'Lis': 'Nov', 'Gru': 'Dec'\n",
        "    }\n",
        "    for pl, en in months_pl_to_en.items():\n",
        "        date_str = date_str.replace(pl, en)\n",
        "    return date_str.strip()\n",
        "\n",
        "df_copy = df.copy()\n",
        "df_copy.loc[:, 'Czas'] = df_copy['Czas'].apply(replace_month)\n",
        "df_copy.loc[:, 'Czas'] = pd.to_datetime(df_copy['Czas'], format=\"%d %b %Y\").dt.strftime('%Y-%m-%d')\n",
        "df = df_copy"
      ]
    },
    {
      "cell_type": "code",
      "execution_count": null,
      "metadata": {
        "id": "awPHp0JAiBwz"
      },
      "outputs": [],
      "source": [
        "df = df.rename(columns={'Czas': 'Date', 'Czas2' : 'Time', 'Ciężar': 'Weight'})\n",
        "df = df.reindex(columns=['Date', 'Time', 'Weight'])\n",
        "df['Weight'] = df['Weight'].str.replace(' kg', '').astype(float)"
      ]
    },
    {
      "cell_type": "code",
      "execution_count": null,
      "metadata": {
        "id": "XctXRInSiEbv"
      },
      "outputs": [],
      "source": [
        "df = df.dropna(how='all')\n",
        "duplicated_rows = df.duplicated(keep=False)\n",
        "\n",
        "if duplicated_rows.sum() > 0:\n",
        "    print(f\"Found {duplicated_rows.sum()} duplicated rows.\")\n",
        "    duplicated_sorted = df[duplicated_rows].sort_values(by='Date')\n",
        "    df = df.drop_duplicates()\n",
        "    print(f\"Removed duplicates.\")"
      ]
    },
    {
      "cell_type": "code",
      "execution_count": null,
      "metadata": {
        "id": "WEsODYcTiXf8"
      },
      "outputs": [],
      "source": [
        "df_garmin_connect = df.sort_values(by=['Date', 'Time'], ascending=True)"
      ]
    },
    {
      "cell_type": "code",
      "execution_count": null,
      "metadata": {
        "id": "y64jBB-3iaVZ"
      },
      "outputs": [],
      "source": [
        "print(f'Number of entries: {len(df_garmin_connect)}')\n",
        "print(f'Date of first entry: {df_garmin_connect[\"Date\"].iloc[0]}')\n",
        "print(f'Date of last entry: {df_garmin_connect[\"Date\"].iloc[-1]}')"
      ]
    },
    {
      "cell_type": "markdown",
      "metadata": {
        "id": "1D_WzL7SidML"
      },
      "source": [
        "## Data Consalidation"
      ]
    },
    {
      "cell_type": "code",
      "execution_count": null,
      "metadata": {
        "id": "-Z49NImzifUo"
      },
      "outputs": [],
      "source": [
        "df_merged = pd.concat([df_google_sheets, df_garmin_connect], ignore_index=True)"
      ]
    },
    {
      "cell_type": "code",
      "execution_count": null,
      "metadata": {
        "id": "PWyzhT43ikce"
      },
      "outputs": [],
      "source": [
        "df_merged = df_merged.dropna(how='all')\n",
        "duplicated_rows = df_merged.duplicated(keep=False)\n",
        "\n",
        "if duplicated_rows.sum() > 0:\n",
        "    print(f\"Found {duplicated_rows.sum()} duplicated rows.\")\n",
        "    duplicated_sorted = df[duplicated_rows].sort_values(by='Date')\n",
        "    df = df.drop_duplicates()\n",
        "    print(f\"Removed duplicates.\")"
      ]
    },
    {
      "cell_type": "code",
      "execution_count": null,
      "metadata": {
        "id": "mZveKT6l2OJO"
      },
      "outputs": [],
      "source": [
        "df_merged = df_merged[df_merged['Weight'].notna()]"
      ]
    },
    {
      "cell_type": "code",
      "execution_count": null,
      "metadata": {
        "id": "eJTWT2fIiofk"
      },
      "outputs": [],
      "source": [
        "print(f'Number of entries: {len(df_merged)}')\n",
        "print(f'Date of first entry: {df_merged[\"Date\"].iloc[0]}')\n",
        "print(f'Date of last entry: {df_merged[\"Date\"].iloc[-1]}')"
      ]
    },
    {
      "cell_type": "markdown",
      "metadata": {
        "id": "qZxslywPisvY"
      },
      "source": [
        "## Data visualization"
      ]
    },
    {
      "cell_type": "code",
      "execution_count": null,
      "metadata": {
        "id": "evF3y2uFiv_Q"
      },
      "outputs": [],
      "source": [
        "df_merged['Date'] = pd.to_datetime(df_merged['Date'])\n",
        "df_merged.sort_values('Date', inplace=True)\n",
        "df_merged['Year'] = df_merged['Date'].dt.year\n",
        "\n",
        "window_size = 7\n",
        "df_merged['SmoothedWeight'] = df_merged['Weight'].rolling(window=window_size, min_periods=1).mean()\n",
        "overall_average_weight = df_merged['Weight'].mean()\n",
        "\n",
        "fig = go.Figure()\n",
        "\n",
        "first_year = df_merged['Year'].min()\n",
        "last_year = df_merged['Year'].max()\n",
        "\n",
        "fig.add_trace(go.Scatter(\n",
        "    x=df_merged['Date'],\n",
        "    y=df_merged['SmoothedWeight'],\n",
        "    mode='lines',\n",
        "    name='My Weight',\n",
        "    line_shape='spline',\n",
        "    line=dict(width=4, color='purple'),\n",
        "    visible=True\n",
        "))\n",
        "\n",
        "\n",
        "fig.add_trace(go.Scatter(\n",
        "    x=[df_merged['Date'].min(), df_merged['Date'].max()],\n",
        "    y=[overall_average_weight, overall_average_weight],\n",
        "    mode='lines',\n",
        "    name='Overall Average',\n",
        "    line=dict(dash='dash'),\n",
        "    visible=True\n",
        "))\n",
        "\n",
        "for year in sorted(df_merged['Year'].unique()):\n",
        "    df_year = df_merged[df_merged['Year'] == year]\n",
        "    max_weight = df_year['Weight'].max()\n",
        "    min_weight = df_year['Weight'].min()\n",
        "\n",
        "    fig.add_trace(go.Scatter(\n",
        "        x=df_year['Date'],\n",
        "        y=df_year['Weight'],\n",
        "        mode='lines+markers',\n",
        "        name=str(year),\n",
        "        visible=False,\n",
        "        line_shape='spline'\n",
        "    ))\n",
        "\n",
        "    max_weight_df = df_year[df_year['Weight'] == max_weight]\n",
        "    if not max_weight_df.empty:\n",
        "        max_date = max_weight_df['Date'].iloc[0]\n",
        "        fig.add_trace(go.Scatter(\n",
        "            x=[max_date],\n",
        "            y=[max_weight],\n",
        "            mode='markers',\n",
        "            marker=dict(size=10, color='red'),\n",
        "            name=f'Max {year}',\n",
        "            visible=False\n",
        "        ))\n",
        "\n",
        "    min_weight_df = df_year[df_year['Weight'] == min_weight]\n",
        "    if not min_weight_df.empty:\n",
        "        min_date = min_weight_df['Date'].iloc[0]\n",
        "        fig.add_trace(go.Scatter(\n",
        "            x=[min_date],\n",
        "            y=[min_weight],\n",
        "            mode='markers',\n",
        "            marker=dict(size=10, color='blue'),\n",
        "            name=f'Min {year}',\n",
        "            visible=False\n",
        "        ))\n",
        "\n",
        "buttons = [dict(\n",
        "    label=\"All years\",\n",
        "    method=\"update\",\n",
        "    args=[{\"visible\": [True, True] + [False]*(len(df_merged['Year'].unique())*3)},\n",
        "          {\"title\": f\"Weight Progression: {first_year}-{last_year}\",\n",
        "           \"xaxis\": {\"range\": [df_merged['Date'].min(), df_merged['Date'].max()], \"tickformat\": \"%Y\", 'dtick': \"M12\"}}]\n",
        ")]\n",
        "\n",
        "for i, year in enumerate(sorted(df_merged['Year'].unique())):\n",
        "    df_year = df_merged[df_merged['Year'] == year]\n",
        "    start_date = df_year['Date'].min()\n",
        "    end_date = df_year['Date'].max()\n",
        "    visibility = [False, False] + [False]*(i*3) + [True, True, True] + [False]*((len(df_merged['Year'].unique())-i-1)*3)\n",
        "    buttons.append(dict(\n",
        "        label=str(year),\n",
        "        method=\"update\",\n",
        "        args=[{\"visible\": visibility},\n",
        "              {\"title\": f\"Weight Progression: {year}\",\n",
        "               \"xaxis\": {\"range\": [start_date, end_date], \"tickformat\": \"%b %Y\"}}]\n",
        "    ))\n",
        "\n",
        "fig.update_layout(\n",
        "    updatemenus=[dict(\n",
        "        active=0,\n",
        "        buttons=buttons,\n",
        "        x=0.85,\n",
        "        y=1.15,\n",
        "        xanchor='left',\n",
        "        yanchor='top'\n",
        "    )],\n",
        "    title=f\"Weight Progression: {first_year}-{last_year}\",\n",
        "    title_x=0.5,\n",
        "    xaxis=dict(title=\"Date\"),\n",
        "    yaxis=dict(title=\"Weight (kg)\"),\n",
        "    template='plotly_white'\n",
        ")\n",
        "\n",
        "fig.show()"
      ]
    }
  ],
  "metadata": {
    "colab": {
      "provenance": [],
      "mount_file_id": "16v_bHcXognFO31Ew7Kj5kL4g00v2WL42",
      "authorship_tag": "ABX9TyOcELZn38k5nIhw46274+9W",
      "include_colab_link": true
    },
    "kernelspec": {
      "display_name": "Python 3",
      "name": "python3"
    },
    "language_info": {
      "name": "python"
    }
  },
  "nbformat": 4,
  "nbformat_minor": 0
}